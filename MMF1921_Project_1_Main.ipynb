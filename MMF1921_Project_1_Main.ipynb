{
 "cells": [
  {
   "cell_type": "markdown",
   "source": [
    "# MMF1921 (Summer 2024) - Project 1\n",
    " \n",
    " The purpose of this program is to implement the following factor models\n",
    " \n",
    "     a) Multi-factor OLS regression\n",
    "     b) Fama-French 3-factor model\n",
    "     c) LASSO\n",
    "     d) Best Subset Selection\n",
    " \n",
    " and to use these factor models to estimate the asset expected returns and covariance matrix. \n",
    " \n",
    "These parameters will then be used to test the out-of-sample performance using MVO to construct optimal portfolios.\n",
    " \n",
    " Use can use this template to write your program.\n",
    "\n",
    "     Student Name: Kaiwen Shen; \n",
    "     Student ID: 1009970239;"
   ],
   "metadata": {
    "collapsed": false
   },
   "id": "5aa1c03ca7ef08ec"
  },
  {
   "metadata": {
    "ExecuteTime": {
     "end_time": "2024-05-05T11:53:59.830441Z",
     "start_time": "2024-05-05T11:53:59.787484Z"
    }
   },
   "cell_type": "code",
   "source": [
    "import numpy as np\n",
    "%load_ext autoreload\n",
    "%autoreload 2"
   ],
   "id": "f019ded51491b7c6",
   "outputs": [],
   "execution_count": 1
  },
  {
   "cell_type": "code",
   "source": [
    "import time\n",
    "import math\n",
    "from scipy.stats import gmean\n",
    "import matplotlib.pyplot as plt\n",
    "from functions.BSS import *\n",
    "from functions.FF import *\n",
    "from functions.LASSO import *\n",
    "from functions.MVO import *\n",
    "from functions.OLS import *\n",
    "import pandas as pd\n",
    "\n",
    "adjClose = pd.read_csv(\"MMF1921_AssetPrices.csv\", index_col=0)\n",
    "factorRet = pd.read_csv(\"MMF1921_FactorReturns.csv\", index_col=0)"
   ],
   "metadata": {
    "collapsed": false,
    "ExecuteTime": {
     "end_time": "2024-05-05T11:54:01.445781Z",
     "start_time": "2024-05-05T11:53:59.830441Z"
    }
   },
   "id": "3dd18748bf738469",
   "outputs": [],
   "execution_count": 2
  },
  {
   "cell_type": "code",
   "source": [
    "adjClose.index = pd.to_datetime(adjClose.index)\n",
    "factorRet.index = pd.to_datetime(factorRet.index)"
   ],
   "metadata": {
    "collapsed": false,
    "ExecuteTime": {
     "end_time": "2024-05-05T11:54:01.508764Z",
     "start_time": "2024-05-05T11:54:01.446938Z"
    }
   },
   "id": "db2ee472b8f6f3a",
   "outputs": [],
   "execution_count": 3
  },
  {
   "cell_type": "code",
   "source": [
    "#rf and factor returns\n",
    "riskFree = factorRet['RF']\n",
    "factorRet = factorRet.loc[:, factorRet.columns != 'RF'];"
   ],
   "metadata": {
    "collapsed": false,
    "ExecuteTime": {
     "end_time": "2024-05-05T11:54:01.556268Z",
     "start_time": "2024-05-05T11:54:01.509745Z"
    }
   },
   "id": "6a1cb2ff06585cca",
   "outputs": [],
   "execution_count": 4
  },
  {
   "cell_type": "code",
   "source": [
    "#Identify the tickers and the dates\n",
    "tickers = adjClose.columns\n",
    "dates = factorRet.index"
   ],
   "metadata": {
    "collapsed": false,
    "ExecuteTime": {
     "end_time": "2024-05-05T11:54:01.604202Z",
     "start_time": "2024-05-05T11:54:01.557282Z"
    }
   },
   "id": "69317af6c697f9d0",
   "outputs": [],
   "execution_count": 5
  },
  {
   "cell_type": "code",
   "source": [
    "# Calculate the stocks monthly excess returns\n",
    "# pct change and drop the first null observation\n",
    "returns = adjClose.pct_change(1).iloc[1:, :]\n",
    "\n",
    "returns = returns - np.diag(riskFree.values) @ np.ones_like(returns.values)\n",
    "# Align the price table to the asset and factor returns tables by discarding the first observation.\n",
    "adjClose = adjClose.iloc[1:, :]"
   ],
   "metadata": {
    "collapsed": false,
    "ExecuteTime": {
     "end_time": "2024-05-05T11:54:01.683753Z",
     "start_time": "2024-05-05T11:54:01.604202Z"
    }
   },
   "id": "5c3009e46f05dbee",
   "outputs": [],
   "execution_count": 6
  },
  {
   "cell_type": "code",
   "source": [
    "assert adjClose.index[0] == returns.index[0]\n",
    "assert adjClose.index[0] == factorRet.index[0]"
   ],
   "metadata": {
    "collapsed": false,
    "ExecuteTime": {
     "end_time": "2024-05-05T11:54:01.730730Z",
     "start_time": "2024-05-05T11:54:01.683753Z"
    }
   },
   "id": "3eb100308abba09b",
   "outputs": [],
   "execution_count": 7
  },
  {
   "cell_type": "markdown",
   "source": [
    "# 2. Define your initial parameters"
   ],
   "metadata": {
    "collapsed": false
   },
   "id": "ef29f7a59dd1ad5d"
  },
  {
   "cell_type": "code",
   "source": [
    "#Initial budget to invest ($100,000)\n",
    "initialVal = 100000\n",
    "\n",
    "#Start of in-sample calibration period\n",
    "calStart = pd.to_datetime('2008-01-01', format='%Y-%m-%d')\n",
    "calEnd = calStart + pd.offsets.DateOffset(years=4) - pd.offsets.DateOffset(days=1)\n",
    "\n",
    "#Start of out-of-sample test period\n",
    "testStart = pd.to_datetime('2012-01-01', format='%Y-%m-%d')\n",
    "testEnd = testStart + pd.offsets.DateOffset(years=1) - pd.offsets.DateOffset(days=1)\n",
    "\n",
    "#Number of investment periods (each investment period is 1 year long)\n",
    "NoPeriods = 5\n",
    "\n",
    "#Factor models\n",
    "#Note: You must populate the functions OLS.py, FF.py, LASSO.py and BSS.py with your own code.\n",
    "FMList = [OLS, FF, LASSO, BSS]\n",
    "NoModels = len(FMList)\n",
    "\n",
    "#Tags for the portfolios under the different factor models\n",
    "tags = ['OLS portfolio', 'FF portfolio', 'LASSO portfolio', 'BSS portfolio']"
   ],
   "metadata": {
    "collapsed": false,
    "ExecuteTime": {
     "end_time": "2024-05-05T11:54:01.794016Z",
     "start_time": "2024-05-05T11:54:01.730730Z"
    }
   },
   "id": "ab32c2350bebbd5",
   "outputs": [],
   "execution_count": 8
  },
  {
   "metadata": {},
   "cell_type": "markdown",
   "source": "# Collecting data for the input of factor combining model",
   "id": "9f036141d968715c"
  },
  {
   "metadata": {
    "ExecuteTime": {
     "end_time": "2024-05-05T11:54:01.857476Z",
     "start_time": "2024-05-05T11:54:01.794016Z"
    }
   },
   "cell_type": "code",
   "source": [
    "train_period_ret = []\n",
    "train_period_factor_ret = []\n",
    "for t in range(NoPeriods):\n",
    "    # Subset the returns and factor returns corresponding to the current calibration period.\n",
    "    periodReturns = returns[(calStart <= returns.index) & (returns.index <= calEnd)]\n",
    "    periodFactRet = factorRet[(calStart <= factorRet.index) & (factorRet.index <= calEnd)]\n",
    "\n",
    "    # Update your calibration and out-of-sample test periods\n",
    "    calStart = calStart + pd.offsets.DateOffset(years=1)\n",
    "    calEnd = calStart + pd.offsets.DateOffset(years=4) - pd.offsets.DateOffset(days=1)\n",
    "    train_period_ret.append(periodReturns)\n",
    "    train_period_factor_ret.append(periodFactRet)"
   ],
   "id": "dba26f419a9ca216",
   "outputs": [],
   "execution_count": 9
  },
  {
   "metadata": {
    "ExecuteTime": {
     "end_time": "2024-05-05T13:40:01.966024Z",
     "start_time": "2024-05-05T13:40:01.897624Z"
    }
   },
   "cell_type": "code",
   "source": "mu,q = OLS(train_period_ret[0], train_period_factor_ret[0], 0, 0)",
   "id": "f6ef6250081ad52b",
   "outputs": [
    {
     "name": "stdout",
     "output_type": "stream",
     "text": [
      "OLS insample R2: \n",
      "F       0.518186\n",
      "CAT     0.526971\n",
      "DIS     0.214511\n",
      "MCD     0.657137\n",
      "KO      0.447252\n",
      "PEP     0.429599\n",
      "WMT     0.699173\n",
      "C       0.708010\n",
      "WFC     0.679080\n",
      "JPM     0.662852\n",
      "AAPL    0.335561\n",
      "IBM     0.350917\n",
      "PFE     0.381646\n",
      "JNJ     0.469499\n",
      "XOM     0.684294\n",
      "MRO     0.221097\n",
      "ED      0.586422\n",
      "T       0.436413\n",
      "VZ      0.488757\n",
      "NEM     0.252756\n",
      "dtype: float64\n",
      "OLS insample adj R2: \n",
      "F       0.404072\n",
      "CAT     0.414937\n",
      "DIS     0.028474\n",
      "MCD     0.575932\n",
      "KO      0.316338\n",
      "PEP     0.294504\n",
      "WMT     0.627925\n",
      "C       0.638854\n",
      "WFC     0.603072\n",
      "JPM     0.583002\n",
      "AAPL    0.178194\n",
      "IBM     0.197187\n",
      "PFE     0.235194\n",
      "JNJ     0.343854\n",
      "XOM     0.609521\n",
      "MRO     0.036621\n",
      "ED      0.488469\n",
      "T       0.302932\n",
      "VZ      0.367673\n",
      "NEM     0.075777\n",
      "dtype: float64\n"
     ]
    }
   ],
   "execution_count": 113
  },
  {
   "cell_type": "markdown",
   "source": [
    "# 3. Construct and rebalance your portfolios\n",
    "\n",
    "Here you will estimate your input parameters (exp. returns and cov. matrix etc) from the Fama-French factor models.\n",
    "You will have to re-estimate your parameters at the start of each rebalance period, and then re-optimize and rebalance your portfolios accordingly.\n",
    "\n",
    "Ensure you re-initialize the dates above if you run this cell repeatedly. "
   ],
   "metadata": {
    "collapsed": false
   },
   "id": "7a5672c487816533"
  },
  {
   "cell_type": "code",
   "execution_count": null,
   "outputs": [],
   "source": [
    "# Initiate counter for the number of observations per investment period\n",
    "toDay = 0\n",
    "\n",
    "# Preallocate the space for the per period value of the portfolios \n",
    "currentVal = {i: np.zeros(NoPeriods) for i in range(NoModels)}\n",
    "\n",
    "# Number of assets\n",
    "n = len(tickers)\n",
    "\n",
    "# Preallocate space for the portfolio weights\n",
    "x = {i: np.zeros([n, NoPeriods]) for i in range(NoModels)}\n",
    "\n",
    "# Initialize dictionaries to hold Q, mu and the number of shares \n",
    "# for each model. These are overwritten at each rebalancing point\n",
    "mu = {}\n",
    "Q = {}\n",
    "adj_r2 = {}\n",
    "NoShares = {}\n",
    "\n",
    "# Empty lists to measure the value of the portfolio over the period\n",
    "portfValue = {i: [] for i in range(NoModels)}\n",
    "\n",
    "#--------------------------------------------------------------------------\n",
    "# Set the value of lambda and K for the LASSO and BSS models, respectively\n",
    "#--------------------------------------------------------------------------\n",
    "lambda_ = 0.5\n",
    "K = 4\n",
    "\n",
    "for t in range(NoPeriods):\n",
    "    # Subset the returns and factor returns corresponding to the current calibration period.\n",
    "    periodReturns = returns[(calStart <= returns.index) & (returns.index <= calEnd)]\n",
    "    periodFactRet = factorRet[(calStart <= factorRet.index) & (factorRet.index <= calEnd)]\n",
    "\n",
    "    current_price_idx = (calEnd - pd.offsets.DateOffset(days=7) <= adjClose.index) & (adjClose.index <= calEnd)\n",
    "    currentPrices = adjClose[current_price_idx]\n",
    "\n",
    "    # Subset the prices corresponding to the current out-of-sample test period.\n",
    "    periodPrices_idx = (testStart <= adjClose.index) & (adjClose.index <= testEnd)\n",
    "    periodPrices = adjClose[periodPrices_idx]\n",
    "\n",
    "    assert len(currentPrices) == 1\n",
    "    # Set the initial value of the portfolio or update the portfolio value\n",
    "    if t == 0:\n",
    "        for i in range(NoModels):\n",
    "            currentVal[i][0] = initialVal  # all models start with the same amount of $\n",
    "    else:\n",
    "        for i in range(NoModels):\n",
    "            currentVal[i][t] = (currentPrices @ NoShares[i].values.T).squeeze()\n",
    "\n",
    "    # Update counter for the number of observations per investment period\n",
    "    fromDay = toDay\n",
    "    toDay = toDay + len(periodPrices)\n",
    "\n",
    "    # Calculate 'mu' and 'Q' using the 4 factor models.\n",
    "    # Note: You need to write the code for the 4 factor model functions. \n",
    "    for i in range(NoModels):\n",
    "        mu[i], Q[i], adj_r2[i] = FMList[i](periodReturns, periodFactRet, lambda_, K)\n",
    "\n",
    "    # Optimize your portfolios to get the weights 'x'\n",
    "    # Note: You need to write the code for MVO with no short sales\n",
    "    for i in range(NoModels):\n",
    "        # Define the target return as the geometric mean of the market \n",
    "        # factor for the current calibration period\n",
    "        targetRet = gmean(periodFactRet.iloc[:, 0] + 1) - 1\n",
    "\n",
    "        x[i][:, t] = MVO(mu[i], Q[i], targetRet)\n",
    "\n",
    "        # Calculate the optimal number of shares of each stock you should hold\n",
    "    for i in range(NoModels):\n",
    "        # Number of shares your portfolio holds per stock\n",
    "        NoShares[i] = x[i][:, t] * currentVal[i][t] / currentPrices\n",
    "\n",
    "        # Weekly portfolio value during the out-of-sample window\n",
    "        portfValue[i].append(periodPrices @ NoShares[i].values.T)\n",
    "\n",
    "    # Update your calibration and out-of-sample test periods\n",
    "    calStart = calStart + pd.offsets.DateOffset(years=1)\n",
    "    calEnd = calStart + pd.offsets.DateOffset(years=4) - pd.offsets.DateOffset(days=1)\n",
    "\n",
    "    testStart = testStart + pd.offsets.DateOffset(years=1)\n",
    "    testEnd = testStart + pd.offsets.DateOffset(years=1) - pd.offsets.DateOffset(days=1)\n",
    "\n",
    "for i in range(NoModels):\n",
    "    portfValue[i] = pd.concat(portfValue[i], axis=0)\n",
    "\n",
    "# Overwrite into a dataframe\n",
    "portfValue = pd.DataFrame([portfValue[i].values.squeeze() for i in range(NoModels)],\n",
    "                          index=tags, columns=portfValue[0].index).T\n"
   ],
   "metadata": {
    "collapsed": false
   },
   "id": "11c797de8a3dad0e"
  },
  {
   "cell_type": "markdown",
   "source": [
    "# 4. Results"
   ],
   "metadata": {
    "collapsed": false
   },
   "id": "9d89ef312fb8fdcb"
  },
  {
   "cell_type": "code",
   "execution_count": null,
   "outputs": [],
   "source": [
    "#--------------------------------------------------------------------------\n",
    "# 4.1 Evaluate any measures of fit of the regression models to assess their\n",
    "# in-sample quality. You may want to modify Section 3 of this program to\n",
    "# calculate the quality of fit each time the models are recalibrated.\n",
    "#--------------------------------------------------------------------------\n",
    "\n",
    "#--------------------------------------------------------------------------\n",
    "# 4.2 Calculate the portfolio average return, variance (or standard \n",
    "# deviation), and any other performance and/or risk metric you wish to \n",
    "# include in your report.\n",
    "#--------------------------------------------------------------------------"
   ],
   "metadata": {
    "collapsed": false
   },
   "id": "d31a92d33c2e07a6"
  },
  {
   "cell_type": "code",
   "execution_count": null,
   "outputs": [],
   "source": [
    "#--------------------------------------------------------------------------\n",
    "# 4.3 Plot the portfolio wealth evolution \n",
    "# \n",
    "# Note: The code below plots all portfolios onto a single plot. However,\n",
    "# you may want to split this into multiple plots for clarity, or to\n",
    "# compare a subset of the portfolios. \n",
    "#--------------------------------------------------------------------------\n",
    "# Calculate the dates of the out-of-sample period\n",
    "\n",
    "fig = plt.figure(1)\n",
    "portfValue.plot(title='Portfolio wealth evolution',\n",
    "                ylabel='Total wealth',\n",
    "                figsize=(6, 3),\n",
    "                legend=True)\n",
    "plt.savefig(\"images/wealth.svg\")\n",
    "\n",
    "#--------------------------------------------------------------------------\n",
    "# 4.4 Plot the portfolio weights period-over-period\n",
    "#--------------------------------------------------------------------------\n",
    "# OLS Portfolio weights\n",
    "\n",
    "fig2 = plt.figure(2)\n",
    "x[0][x[0] < 0] = 0\n",
    "weights = pd.DataFrame(x[0][(x[0] > 0).any(axis=1)], index=tickers[(x[0] > 0).any(axis=1)])\n",
    "weights.columns = [col + 1 for col in weights.columns]\n",
    "weights.T.plot.area(title='Portfolio weights',\n",
    "                    ylabel='Weights', xlabel='Rebalance Period',\n",
    "                    figsize=(6, 3),\n",
    "                    legend=True, stacked=True)\n",
    "plt.legend(loc='center left', bbox_to_anchor=(1.0, 0.5))\n",
    "plt.savefig(\"images/weights.svg\")\n",
    "#\n",
    "# ###########################################################################\n",
    "# # Program End"
   ],
   "metadata": {
    "collapsed": false
   },
   "id": "46c3d885c42bb74e"
  },
  {
   "cell_type": "code",
   "execution_count": null,
   "outputs": [],
   "source": [],
   "metadata": {
    "collapsed": false
   },
   "id": "4310a5b319d71ef0"
  }
 ],
 "metadata": {
  "kernelspec": {
   "display_name": "Python 3",
   "language": "python",
   "name": "python3"
  },
  "language_info": {
   "codemirror_mode": {
    "name": "ipython",
    "version": 2
   },
   "file_extension": ".py",
   "mimetype": "text/x-python",
   "name": "python",
   "nbconvert_exporter": "python",
   "pygments_lexer": "ipython2",
   "version": "2.7.6"
  }
 },
 "nbformat": 4,
 "nbformat_minor": 5
}
