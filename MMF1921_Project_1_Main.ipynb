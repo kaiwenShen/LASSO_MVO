{
 "cells": [
  {
   "cell_type": "markdown",
   "source": [
    "# MMF1921 (Summer 2024) - Project 1\n",
    " \n",
    " The purpose of this program is to implement the following factor models\n",
    " \n",
    "     a) Multi-factor OLS regression\n",
    "     b) Fama-French 3-factor model\n",
    "     c) LASSO\n",
    "     d) Best Subset Selection\n",
    " \n",
    " and to use these factor models to estimate the asset expected returns and covariance matrix. \n",
    " \n",
    "These parameters will then be used to test the out-of-sample performance using MVO to construct optimal portfolios.\n",
    " \n",
    " Use can use this template to write your program.\n",
    "\n",
    "     Student Name: Kaiwen Shen; \n",
    "     Student ID: 1009970239;"
   ],
   "metadata": {
    "collapsed": false
   },
   "id": "5aa1c03ca7ef08ec"
  },
  {
   "metadata": {
    "ExecuteTime": {
     "end_time": "2024-05-05T17:28:09.347082Z",
     "start_time": "2024-05-05T17:28:09.164259Z"
    }
   },
   "cell_type": "code",
   "source": [
    "import numpy as np\n",
    "%load_ext autoreload\n",
    "%autoreload 2"
   ],
   "id": "f019ded51491b7c6",
   "outputs": [
    {
     "name": "stdout",
     "output_type": "stream",
     "text": [
      "The autoreload extension is already loaded. To reload it, use:\n",
      "  %reload_ext autoreload\n"
     ]
    }
   ],
   "execution_count": 45
  },
  {
   "cell_type": "code",
   "source": [
    "import time\n",
    "import math\n",
    "from scipy.stats import gmean\n",
    "import matplotlib.pyplot as plt\n",
    "from functions.BSS import *\n",
    "from functions.FF import *\n",
    "from functions.LASSO import *\n",
    "from functions.MVO import *\n",
    "from functions.OLS import *\n",
    "import pandas as pd\n",
    "\n",
    "adjClose = pd.read_csv(\"MMF1921_AssetPrices.csv\", index_col=0)\n",
    "factorRet = pd.read_csv(\"MMF1921_FactorReturns.csv\", index_col=0)"
   ],
   "metadata": {
    "collapsed": false,
    "ExecuteTime": {
     "end_time": "2024-05-05T17:28:09.457364Z",
     "start_time": "2024-05-05T17:28:09.349733Z"
    }
   },
   "id": "3dd18748bf738469",
   "outputs": [],
   "execution_count": 46
  },
  {
   "cell_type": "code",
   "source": [
    "adjClose.index = pd.to_datetime(adjClose.index)\n",
    "factorRet.index = pd.to_datetime(factorRet.index)"
   ],
   "metadata": {
    "collapsed": false,
    "ExecuteTime": {
     "end_time": "2024-05-05T17:28:09.552579Z",
     "start_time": "2024-05-05T17:28:09.457364Z"
    }
   },
   "id": "db2ee472b8f6f3a",
   "outputs": [],
   "execution_count": 47
  },
  {
   "cell_type": "code",
   "source": [
    "#rf and factor returns\n",
    "riskFree = factorRet['RF']\n",
    "factorRet = factorRet.loc[:, factorRet.columns != 'RF'];"
   ],
   "metadata": {
    "collapsed": false,
    "ExecuteTime": {
     "end_time": "2024-05-05T17:28:09.647282Z",
     "start_time": "2024-05-05T17:28:09.552579Z"
    }
   },
   "id": "6a1cb2ff06585cca",
   "outputs": [],
   "execution_count": 48
  },
  {
   "cell_type": "code",
   "source": [
    "#Identify the tickers and the dates\n",
    "tickers = adjClose.columns\n",
    "dates = factorRet.index"
   ],
   "metadata": {
    "collapsed": false,
    "ExecuteTime": {
     "end_time": "2024-05-05T17:28:09.726118Z",
     "start_time": "2024-05-05T17:28:09.647282Z"
    }
   },
   "id": "69317af6c697f9d0",
   "outputs": [],
   "execution_count": 49
  },
  {
   "cell_type": "code",
   "source": [
    "# Calculate the stocks monthly excess returns\n",
    "# pct change and drop the first null observation\n",
    "returns = adjClose.pct_change(1).iloc[1:, :]\n",
    "\n",
    "returns = returns - np.diag(riskFree.values) @ np.ones_like(returns.values)\n",
    "# Align the price table to the asset and factor returns tables by discarding the first observation.\n",
    "adjClose = adjClose.iloc[1:, :]"
   ],
   "metadata": {
    "collapsed": false,
    "ExecuteTime": {
     "end_time": "2024-05-05T17:28:09.821543Z",
     "start_time": "2024-05-05T17:28:09.726926Z"
    }
   },
   "id": "5c3009e46f05dbee",
   "outputs": [],
   "execution_count": 50
  },
  {
   "cell_type": "code",
   "source": [
    "assert adjClose.index[0] == returns.index[0]\n",
    "assert adjClose.index[0] == factorRet.index[0]"
   ],
   "metadata": {
    "collapsed": false,
    "ExecuteTime": {
     "end_time": "2024-05-05T17:28:09.909311Z",
     "start_time": "2024-05-05T17:28:09.821543Z"
    }
   },
   "id": "3eb100308abba09b",
   "outputs": [],
   "execution_count": 51
  },
  {
   "cell_type": "markdown",
   "source": [
    "# 2. Define your initial parameters"
   ],
   "metadata": {
    "collapsed": false
   },
   "id": "ef29f7a59dd1ad5d"
  },
  {
   "cell_type": "code",
   "source": [
    "#Initial budget to invest ($100,000)\n",
    "initialVal = 100000\n",
    "\n",
    "#Start of in-sample calibration period\n",
    "calStart = pd.to_datetime('2008-01-01', format='%Y-%m-%d')\n",
    "calEnd = calStart + pd.offsets.DateOffset(years=4) - pd.offsets.DateOffset(days=1)\n",
    "\n",
    "#Start of out-of-sample test period\n",
    "testStart = pd.to_datetime('2012-01-01', format='%Y-%m-%d')\n",
    "testEnd = testStart + pd.offsets.DateOffset(years=1) - pd.offsets.DateOffset(days=1)\n",
    "\n",
    "#Number of investment periods (each investment period is 1 year long)\n",
    "NoPeriods = 5\n",
    "\n",
    "#Factor models\n",
    "#Note: You must populate the functions OLS.py, FF.py, LASSO.py and BSS.py with your own code.\n",
    "FMList = [OLS, FF, LASSO, BSS]\n",
    "NoModels = len(FMList)\n",
    "\n",
    "#Tags for the portfolios under the different factor models\n",
    "tags = ['OLS portfolio', 'FF portfolio', 'LASSO portfolio', 'BSS portfolio']"
   ],
   "metadata": {
    "collapsed": false,
    "ExecuteTime": {
     "end_time": "2024-05-05T20:23:37.603964Z",
     "start_time": "2024-05-05T20:23:37.509405Z"
    }
   },
   "id": "ab32c2350bebbd5",
   "outputs": [],
   "execution_count": 155
  },
  {
   "metadata": {},
   "cell_type": "markdown",
   "source": "# Collecting data for the input of factor combining model",
   "id": "9f036141d968715c"
  },
  {
   "metadata": {
    "ExecuteTime": {
     "end_time": "2024-05-05T17:28:10.090829Z",
     "start_time": "2024-05-05T17:28:09.999305Z"
    }
   },
   "cell_type": "code",
   "source": [
    "train_period_ret = []\n",
    "train_period_factor_ret = []\n",
    "for t in range(NoPeriods):\n",
    "    # Subset the returns and factor returns corresponding to the current calibration period.\n",
    "    periodReturns = returns[(calStart <= returns.index) & (returns.index <= calEnd)]\n",
    "    periodFactRet = factorRet[(calStart <= factorRet.index) & (factorRet.index <= calEnd)]\n",
    "\n",
    "    # Update your calibration and out-of-sample test periods\n",
    "    calStart = calStart + pd.offsets.DateOffset(years=1)\n",
    "    calEnd = calStart + pd.offsets.DateOffset(years=4) - pd.offsets.DateOffset(days=1)\n",
    "    train_period_ret.append(periodReturns)\n",
    "    train_period_factor_ret.append(periodFactRet)"
   ],
   "id": "dba26f419a9ca216",
   "outputs": [],
   "execution_count": 53
  },
  {
   "metadata": {
    "ExecuteTime": {
     "end_time": "2024-05-05T18:10:28.669658Z",
     "start_time": "2024-05-05T18:10:28.575070Z"
    }
   },
   "cell_type": "code",
   "source": "mu, q, adj = OLS(train_period_ret[0], train_period_factor_ret[0], 0, 0)",
   "id": "f6ef6250081ad52b",
   "outputs": [],
   "execution_count": 94
  },
  {
   "metadata": {
    "ExecuteTime": {
     "end_time": "2024-05-05T18:10:29.133934Z",
     "start_time": "2024-05-05T18:10:29.032611Z"
    }
   },
   "cell_type": "code",
   "source": "np.mean(adj)",
   "id": "1dd3dddf571e352c",
   "outputs": [
    {
     "data": {
      "text/plain": [
       "0.47045002683584547"
      ]
     },
     "execution_count": 95,
     "metadata": {},
     "output_type": "execute_result"
    }
   ],
   "execution_count": 95
  },
  {
   "metadata": {
    "ExecuteTime": {
     "end_time": "2024-05-05T18:10:30.543554Z",
     "start_time": "2024-05-05T18:10:30.443595Z"
    }
   },
   "cell_type": "code",
   "source": "mu",
   "id": "2f51f2867978706c",
   "outputs": [
    {
     "data": {
      "text/plain": [
       "array([ 3.54419148e-02,  1.15344678e-02,  4.94526190e-03,  1.26875542e-02,\n",
       "        4.94975785e-03, -1.14836519e-03,  5.48639334e-03, -2.73759632e-02,\n",
       "        7.85426041e-03,  5.94378481e-04,  1.94954270e-02,  1.33638951e-02,\n",
       "        3.50413316e-03,  1.71467016e-03, -1.14891405e-03, -3.86893190e-05,\n",
       "        1.03713559e-02, -1.89275404e-03,  3.97532588e-03,  1.05484289e-02])"
      ]
     },
     "execution_count": 96,
     "metadata": {},
     "output_type": "execute_result"
    }
   ],
   "execution_count": 96
  },
  {
   "metadata": {
    "ExecuteTime": {
     "end_time": "2024-05-05T18:10:20.812691Z",
     "start_time": "2024-05-05T18:10:20.686376Z"
    }
   },
   "cell_type": "code",
   "source": "mu, q = LASSO(train_period_ret[0], train_period_factor_ret[0], 0, 0)",
   "id": "9b802b10b13b5614",
   "outputs": [
    {
     "name": "stdout",
     "output_type": "stream",
     "text": [
      "(9, 20)\n"
     ]
    }
   ],
   "execution_count": 92
  },
  {
   "metadata": {
    "ExecuteTime": {
     "end_time": "2024-05-05T18:10:34.070605Z",
     "start_time": "2024-05-05T18:10:33.976426Z"
    }
   },
   "cell_type": "code",
   "source": "mu",
   "id": "498264714e6ba1f0",
   "outputs": [
    {
     "data": {
      "text/plain": [
       "array([ 3.54419148e-02,  1.15344678e-02,  4.94526190e-03,  1.26875542e-02,\n",
       "        4.94975785e-03, -1.14836519e-03,  5.48639334e-03, -2.73759632e-02,\n",
       "        7.85426041e-03,  5.94378481e-04,  1.94954270e-02,  1.33638951e-02,\n",
       "        3.50413316e-03,  1.71467016e-03, -1.14891405e-03, -3.86893190e-05,\n",
       "        1.03713559e-02, -1.89275404e-03,  3.97532588e-03,  1.05484289e-02])"
      ]
     },
     "execution_count": 97,
     "metadata": {},
     "output_type": "execute_result"
    }
   ],
   "execution_count": 97
  },
  {
   "metadata": {
    "ExecuteTime": {
     "end_time": "2024-05-05T17:42:07.149911Z",
     "start_time": "2024-05-05T17:42:07.071160Z"
    }
   },
   "cell_type": "code",
   "source": "train_period_ret[0].shape",
   "id": "f24f2b796a2a7907",
   "outputs": [
    {
     "data": {
      "text/plain": [
       "(48, 20)"
      ]
     },
     "execution_count": 71,
     "metadata": {},
     "output_type": "execute_result"
    }
   ],
   "execution_count": 71
  },
  {
   "metadata": {
    "ExecuteTime": {
     "end_time": "2024-05-05T15:36:03.457872Z",
     "start_time": "2024-05-05T15:36:03.398349Z"
    }
   },
   "cell_type": "code",
   "source": [
    "# for mvo, right now we are runnning the model targeting historical gmean return, and use mu and Q provided from the OLS model\n",
    "position = MVO(mu, q, gmean(train_period_factor_ret[0] + 1) - 1)"
   ],
   "id": "5d3d4d584b2eb18d",
   "outputs": [],
   "execution_count": 40
  },
  {
   "metadata": {
    "ExecuteTime": {
     "end_time": "2024-05-05T20:16:17.091776Z",
     "start_time": "2024-05-05T20:16:16.946208Z"
    }
   },
   "cell_type": "code",
   "source": "mu, q, adj_r2 = BSS(train_period_ret[0], train_period_factor_ret[0], 0, 9)",
   "id": "a5228c04c1de958d",
   "outputs": [],
   "execution_count": 144
  },
  {
   "metadata": {
    "ExecuteTime": {
     "end_time": "2024-05-05T20:16:17.514003Z",
     "start_time": "2024-05-05T20:16:17.431587Z"
    }
   },
   "cell_type": "code",
   "source": "np.mean(adj_r2)",
   "id": "69e9c55ee164c29",
   "outputs": [
    {
     "data": {
      "text/plain": [
       "0.467780127147709"
      ]
     },
     "execution_count": 145,
     "metadata": {},
     "output_type": "execute_result"
    }
   ],
   "execution_count": 145
  },
  {
   "cell_type": "markdown",
   "source": [
    "# 3. Construct and rebalance your portfolios\n",
    "\n",
    "Here you will estimate your input parameters (exp. returns and cov. matrix etc) from the Fama-French factor models.\n",
    "You will have to re-estimate your parameters at the start of each rebalance period, and then re-optimize and rebalance your portfolios accordingly.\n",
    "\n",
    "Ensure you re-initialize the dates above if you run this cell repeatedly. "
   ],
   "metadata": {
    "collapsed": false
   },
   "id": "7a5672c487816533"
  },
  {
   "cell_type": "code",
   "source": [
    "# Initiate counter for the number of observations per investment period\n",
    "toDay = 0\n",
    "\n",
    "# Preallocate the space for the per period value of the portfolios \n",
    "currentVal = {i: np.zeros(NoPeriods) for i in range(NoModels)}\n",
    "\n",
    "# Number of assets\n",
    "n = len(tickers)\n",
    "\n",
    "# Preallocate space for the portfolio weights\n",
    "x = {i: np.zeros([n, NoPeriods]) for i in range(NoModels)}\n",
    "\n",
    "# Initialize dictionaries to hold Q, mu and the number of shares \n",
    "# for each model. These are overwritten at each rebalancing point\n",
    "mu = {}\n",
    "Q = {}\n",
    "total_adj_r2 = []\n",
    "NoShares = {}\n",
    "\n",
    "# Empty lists to measure the value of the portfolio over the period\n",
    "portfValue = {i: [] for i in range(NoModels)}\n",
    "\n",
    "#--------------------------------------------------------------------------\n",
    "# Set the value of lambda and K for the LASSO and BSS models, respectively\n",
    "#--------------------------------------------------------------------------\n",
    "lambda_ = 0.5\n",
    "K = 4\n",
    "\n",
    "for t in range(NoPeriods):\n",
    "    adj_r2 = {}\n",
    "    # Subset the returns and factor returns corresponding to the current calibration period.\n",
    "    periodReturns = returns[(calStart <= returns.index) & (returns.index <= calEnd)]\n",
    "    periodFactRet = factorRet[(calStart <= factorRet.index) & (factorRet.index <= calEnd)]\n",
    "\n",
    "    current_price_idx = (calEnd - pd.offsets.DateOffset(days=7) <= adjClose.index) & (adjClose.index <= calEnd)\n",
    "    currentPrices = adjClose[current_price_idx]\n",
    "\n",
    "    # Subset the prices corresponding to the current out-of-sample test period.\n",
    "    periodPrices_idx = (testStart <= adjClose.index) & (adjClose.index <= testEnd)\n",
    "    periodPrices = adjClose[periodPrices_idx]\n",
    "\n",
    "    assert len(currentPrices) == 1\n",
    "    # Set the initial value of the portfolio or update the portfolio value\n",
    "    if t == 0:\n",
    "        for i in range(NoModels):\n",
    "            currentVal[i][0] = initialVal  # all models start with the same amount of $\n",
    "    else:\n",
    "        for i in range(NoModels):\n",
    "            currentVal[i][t] = (currentPrices @ NoShares[i].values.T).squeeze()\n",
    "\n",
    "    # Update counter for the number of observations per investment period\n",
    "    fromDay = toDay\n",
    "    toDay = toDay + len(periodPrices)\n",
    "\n",
    "    # Calculate 'mu' and 'Q' using the 4 factor models.\n",
    "    # Note: You need to write the code for the 4 factor model functions. \n",
    "    for i in range(NoModels):\n",
    "        mu[i], Q[i], adj_r2[FMList[i].__name__] = FMList[i](periodReturns, periodFactRet, lambda_, K)\n",
    "\n",
    "    # Optimize your portfolios to get the weights 'x'\n",
    "    # Note: You need to write the code for MVO with no short sales\n",
    "    for i in range(NoModels):\n",
    "        # Define the target return as the geometric mean of the market \n",
    "        # factor for the current calibration period\n",
    "        targetRet = gmean(periodFactRet.iloc[:, 0] + 1) - 1\n",
    "\n",
    "        x[i][:, t] = MVO(mu[i], Q[i], targetRet)\n",
    "\n",
    "        # Calculate the optimal number of shares of each stock you should hold\n",
    "    for i in range(NoModels):\n",
    "        # Number of shares your portfolio holds per stock\n",
    "        NoShares[i] = x[i][:, t] * currentVal[i][t] / currentPrices\n",
    "\n",
    "        # Weekly portfolio value during the out-of-sample window\n",
    "        portfValue[i].append(periodPrices @ NoShares[i].values.T)\n",
    "\n",
    "    # Update your calibration and out-of-sample test periods\n",
    "    calStart = calStart + pd.offsets.DateOffset(years=1)\n",
    "    calEnd = calStart + pd.offsets.DateOffset(years=4) - pd.offsets.DateOffset(days=1)\n",
    "\n",
    "    testStart = testStart + pd.offsets.DateOffset(years=1)\n",
    "    testEnd = testStart + pd.offsets.DateOffset(years=1) - pd.offsets.DateOffset(days=1)\n",
    "    # append the adjusted r2\n",
    "    total_adj_r2.append(pd.DataFrame(adj_r2))\n",
    "for i in range(NoModels):\n",
    "    portfValue[i] = pd.concat(portfValue[i], axis=0)\n",
    "\n",
    "# Overwrite into a dataframe\n",
    "portfValue = pd.DataFrame([portfValue[i].values.squeeze() for i in range(NoModels)],\n",
    "                          index=tags, columns=portfValue[0].index).T\n"
   ],
   "metadata": {
    "collapsed": false,
    "ExecuteTime": {
     "end_time": "2024-05-05T20:23:42.129536Z",
     "start_time": "2024-05-05T20:23:41.354350Z"
    }
   },
   "id": "11c797de8a3dad0e",
   "outputs": [],
   "execution_count": 156
  },
  {
   "cell_type": "markdown",
   "source": [
    "# 4. Results"
   ],
   "metadata": {
    "collapsed": false
   },
   "id": "9d89ef312fb8fdcb"
  },
  {
   "cell_type": "code",
   "execution_count": null,
   "outputs": [],
   "source": [
    "#--------------------------------------------------------------------------\n",
    "# 4.1 Evaluate any measures of fit of the regression models to assess their\n",
    "# in-sample quality. You may want to modify Section 3 of this program to\n",
    "# calculate the quality of fit each time the models are recalibrated.\n",
    "#--------------------------------------------------------------------------\n",
    "\n",
    "#--------------------------------------------------------------------------\n",
    "# 4.2 Calculate the portfolio average return, variance (or standard \n",
    "# deviation), and any other performance and/or risk metric you wish to \n",
    "# include in your report.\n",
    "#--------------------------------------------------------------------------"
   ],
   "metadata": {
    "collapsed": false
   },
   "id": "d31a92d33c2e07a6"
  },
  {
   "metadata": {
    "ExecuteTime": {
     "end_time": "2024-05-05T20:25:17.075817Z",
     "start_time": "2024-05-05T20:25:16.966021Z"
    }
   },
   "cell_type": "code",
   "source": "pd.concat(total_adj_r2,keys = range(NoPeriods))",
   "id": "6a88c081b89205a",
   "outputs": [
    {
     "data": {
      "text/plain": [
       "            OLS        FF     LASSO       BSS\n",
       "0 F    0.534539  0.294143  0.396087  0.432362\n",
       "  CAT  0.739130  0.688021  0.678017  0.707262\n",
       "  DIS  0.741206  0.750008  0.741040  0.741206\n",
       "  MCD  0.379076  0.286482  0.369600  0.379076\n",
       "  KO   0.316802  0.348076  0.316667  0.316802\n",
       "...         ...       ...       ...       ...\n",
       "4 MRO  0.596610  0.506210  0.281095  0.573397\n",
       "  ED   0.237019 -0.014606  0.112892  0.230294\n",
       "  T    0.203431  0.148407  0.088987  0.203431\n",
       "  VZ   0.314057  0.190245  0.076561  0.291025\n",
       "  NEM  0.067580 -0.009196  0.007076  0.066140\n",
       "\n",
       "[100 rows x 4 columns]"
      ],
      "text/html": [
       "<div>\n",
       "<style scoped>\n",
       "    .dataframe tbody tr th:only-of-type {\n",
       "        vertical-align: middle;\n",
       "    }\n",
       "\n",
       "    .dataframe tbody tr th {\n",
       "        vertical-align: top;\n",
       "    }\n",
       "\n",
       "    .dataframe thead th {\n",
       "        text-align: right;\n",
       "    }\n",
       "</style>\n",
       "<table border=\"1\" class=\"dataframe\">\n",
       "  <thead>\n",
       "    <tr style=\"text-align: right;\">\n",
       "      <th></th>\n",
       "      <th></th>\n",
       "      <th>OLS</th>\n",
       "      <th>FF</th>\n",
       "      <th>LASSO</th>\n",
       "      <th>BSS</th>\n",
       "    </tr>\n",
       "  </thead>\n",
       "  <tbody>\n",
       "    <tr>\n",
       "      <th rowspan=\"5\" valign=\"top\">0</th>\n",
       "      <th>F</th>\n",
       "      <td>0.534539</td>\n",
       "      <td>0.294143</td>\n",
       "      <td>0.396087</td>\n",
       "      <td>0.432362</td>\n",
       "    </tr>\n",
       "    <tr>\n",
       "      <th>CAT</th>\n",
       "      <td>0.739130</td>\n",
       "      <td>0.688021</td>\n",
       "      <td>0.678017</td>\n",
       "      <td>0.707262</td>\n",
       "    </tr>\n",
       "    <tr>\n",
       "      <th>DIS</th>\n",
       "      <td>0.741206</td>\n",
       "      <td>0.750008</td>\n",
       "      <td>0.741040</td>\n",
       "      <td>0.741206</td>\n",
       "    </tr>\n",
       "    <tr>\n",
       "      <th>MCD</th>\n",
       "      <td>0.379076</td>\n",
       "      <td>0.286482</td>\n",
       "      <td>0.369600</td>\n",
       "      <td>0.379076</td>\n",
       "    </tr>\n",
       "    <tr>\n",
       "      <th>KO</th>\n",
       "      <td>0.316802</td>\n",
       "      <td>0.348076</td>\n",
       "      <td>0.316667</td>\n",
       "      <td>0.316802</td>\n",
       "    </tr>\n",
       "    <tr>\n",
       "      <th>...</th>\n",
       "      <th>...</th>\n",
       "      <td>...</td>\n",
       "      <td>...</td>\n",
       "      <td>...</td>\n",
       "      <td>...</td>\n",
       "    </tr>\n",
       "    <tr>\n",
       "      <th rowspan=\"5\" valign=\"top\">4</th>\n",
       "      <th>MRO</th>\n",
       "      <td>0.596610</td>\n",
       "      <td>0.506210</td>\n",
       "      <td>0.281095</td>\n",
       "      <td>0.573397</td>\n",
       "    </tr>\n",
       "    <tr>\n",
       "      <th>ED</th>\n",
       "      <td>0.237019</td>\n",
       "      <td>-0.014606</td>\n",
       "      <td>0.112892</td>\n",
       "      <td>0.230294</td>\n",
       "    </tr>\n",
       "    <tr>\n",
       "      <th>T</th>\n",
       "      <td>0.203431</td>\n",
       "      <td>0.148407</td>\n",
       "      <td>0.088987</td>\n",
       "      <td>0.203431</td>\n",
       "    </tr>\n",
       "    <tr>\n",
       "      <th>VZ</th>\n",
       "      <td>0.314057</td>\n",
       "      <td>0.190245</td>\n",
       "      <td>0.076561</td>\n",
       "      <td>0.291025</td>\n",
       "    </tr>\n",
       "    <tr>\n",
       "      <th>NEM</th>\n",
       "      <td>0.067580</td>\n",
       "      <td>-0.009196</td>\n",
       "      <td>0.007076</td>\n",
       "      <td>0.066140</td>\n",
       "    </tr>\n",
       "  </tbody>\n",
       "</table>\n",
       "<p>100 rows × 4 columns</p>\n",
       "</div>"
      ]
     },
     "execution_count": 160,
     "metadata": {},
     "output_type": "execute_result"
    }
   ],
   "execution_count": 160
  },
  {
   "metadata": {
    "ExecuteTime": {
     "end_time": "2024-05-05T20:22:35.434354Z",
     "start_time": "2024-05-05T20:22:35.356064Z"
    }
   },
   "cell_type": "code",
   "source": "pd.DataFrame(total_adj_r2[0])",
   "id": "f59684b4d509348a",
   "outputs": [
    {
     "data": {
      "text/plain": [
       "           OLS        FF     LASSO       BSS\n",
       "F     0.534539  0.294143  0.396087  0.432362\n",
       "CAT   0.739130  0.688021  0.678017  0.707262\n",
       "DIS   0.741206  0.750008  0.741040  0.741206\n",
       "MCD   0.379076  0.286482  0.369600  0.379076\n",
       "KO    0.316802  0.348076  0.316667  0.316802\n",
       "PEP   0.301121  0.314306  0.301121  0.301121\n",
       "WMT   0.462193  0.248952  0.415814  0.458885\n",
       "C     0.745980  0.717490  0.503250  0.606805\n",
       "WFC   0.723715  0.659685  0.667958  0.701247\n",
       "JPM   0.747223  0.649006  0.706108  0.731992\n",
       "AAPL  0.507833  0.466533  0.462446  0.491676\n",
       "IBM   0.425640  0.406098  0.425640  0.425640\n",
       "PFE   0.442044  0.461112  0.441918  0.442044\n",
       "JNJ   0.398001  0.436116  0.398001  0.398001\n",
       "XOM   0.563381  0.434259  0.552966  0.563381\n",
       "MRO   0.527062  0.530652  0.512424  0.525779\n",
       "ED    0.045651  0.122450  0.045651  0.045651\n",
       "T     0.405993  0.329904  0.395837  0.405993\n",
       "VZ    0.425955  0.346791  0.418957  0.425955\n",
       "NEM  -0.023544  0.062052 -0.026093 -0.023544"
      ],
      "text/html": [
       "<div>\n",
       "<style scoped>\n",
       "    .dataframe tbody tr th:only-of-type {\n",
       "        vertical-align: middle;\n",
       "    }\n",
       "\n",
       "    .dataframe tbody tr th {\n",
       "        vertical-align: top;\n",
       "    }\n",
       "\n",
       "    .dataframe thead th {\n",
       "        text-align: right;\n",
       "    }\n",
       "</style>\n",
       "<table border=\"1\" class=\"dataframe\">\n",
       "  <thead>\n",
       "    <tr style=\"text-align: right;\">\n",
       "      <th></th>\n",
       "      <th>OLS</th>\n",
       "      <th>FF</th>\n",
       "      <th>LASSO</th>\n",
       "      <th>BSS</th>\n",
       "    </tr>\n",
       "  </thead>\n",
       "  <tbody>\n",
       "    <tr>\n",
       "      <th>F</th>\n",
       "      <td>0.534539</td>\n",
       "      <td>0.294143</td>\n",
       "      <td>0.396087</td>\n",
       "      <td>0.432362</td>\n",
       "    </tr>\n",
       "    <tr>\n",
       "      <th>CAT</th>\n",
       "      <td>0.739130</td>\n",
       "      <td>0.688021</td>\n",
       "      <td>0.678017</td>\n",
       "      <td>0.707262</td>\n",
       "    </tr>\n",
       "    <tr>\n",
       "      <th>DIS</th>\n",
       "      <td>0.741206</td>\n",
       "      <td>0.750008</td>\n",
       "      <td>0.741040</td>\n",
       "      <td>0.741206</td>\n",
       "    </tr>\n",
       "    <tr>\n",
       "      <th>MCD</th>\n",
       "      <td>0.379076</td>\n",
       "      <td>0.286482</td>\n",
       "      <td>0.369600</td>\n",
       "      <td>0.379076</td>\n",
       "    </tr>\n",
       "    <tr>\n",
       "      <th>KO</th>\n",
       "      <td>0.316802</td>\n",
       "      <td>0.348076</td>\n",
       "      <td>0.316667</td>\n",
       "      <td>0.316802</td>\n",
       "    </tr>\n",
       "    <tr>\n",
       "      <th>PEP</th>\n",
       "      <td>0.301121</td>\n",
       "      <td>0.314306</td>\n",
       "      <td>0.301121</td>\n",
       "      <td>0.301121</td>\n",
       "    </tr>\n",
       "    <tr>\n",
       "      <th>WMT</th>\n",
       "      <td>0.462193</td>\n",
       "      <td>0.248952</td>\n",
       "      <td>0.415814</td>\n",
       "      <td>0.458885</td>\n",
       "    </tr>\n",
       "    <tr>\n",
       "      <th>C</th>\n",
       "      <td>0.745980</td>\n",
       "      <td>0.717490</td>\n",
       "      <td>0.503250</td>\n",
       "      <td>0.606805</td>\n",
       "    </tr>\n",
       "    <tr>\n",
       "      <th>WFC</th>\n",
       "      <td>0.723715</td>\n",
       "      <td>0.659685</td>\n",
       "      <td>0.667958</td>\n",
       "      <td>0.701247</td>\n",
       "    </tr>\n",
       "    <tr>\n",
       "      <th>JPM</th>\n",
       "      <td>0.747223</td>\n",
       "      <td>0.649006</td>\n",
       "      <td>0.706108</td>\n",
       "      <td>0.731992</td>\n",
       "    </tr>\n",
       "    <tr>\n",
       "      <th>AAPL</th>\n",
       "      <td>0.507833</td>\n",
       "      <td>0.466533</td>\n",
       "      <td>0.462446</td>\n",
       "      <td>0.491676</td>\n",
       "    </tr>\n",
       "    <tr>\n",
       "      <th>IBM</th>\n",
       "      <td>0.425640</td>\n",
       "      <td>0.406098</td>\n",
       "      <td>0.425640</td>\n",
       "      <td>0.425640</td>\n",
       "    </tr>\n",
       "    <tr>\n",
       "      <th>PFE</th>\n",
       "      <td>0.442044</td>\n",
       "      <td>0.461112</td>\n",
       "      <td>0.441918</td>\n",
       "      <td>0.442044</td>\n",
       "    </tr>\n",
       "    <tr>\n",
       "      <th>JNJ</th>\n",
       "      <td>0.398001</td>\n",
       "      <td>0.436116</td>\n",
       "      <td>0.398001</td>\n",
       "      <td>0.398001</td>\n",
       "    </tr>\n",
       "    <tr>\n",
       "      <th>XOM</th>\n",
       "      <td>0.563381</td>\n",
       "      <td>0.434259</td>\n",
       "      <td>0.552966</td>\n",
       "      <td>0.563381</td>\n",
       "    </tr>\n",
       "    <tr>\n",
       "      <th>MRO</th>\n",
       "      <td>0.527062</td>\n",
       "      <td>0.530652</td>\n",
       "      <td>0.512424</td>\n",
       "      <td>0.525779</td>\n",
       "    </tr>\n",
       "    <tr>\n",
       "      <th>ED</th>\n",
       "      <td>0.045651</td>\n",
       "      <td>0.122450</td>\n",
       "      <td>0.045651</td>\n",
       "      <td>0.045651</td>\n",
       "    </tr>\n",
       "    <tr>\n",
       "      <th>T</th>\n",
       "      <td>0.405993</td>\n",
       "      <td>0.329904</td>\n",
       "      <td>0.395837</td>\n",
       "      <td>0.405993</td>\n",
       "    </tr>\n",
       "    <tr>\n",
       "      <th>VZ</th>\n",
       "      <td>0.425955</td>\n",
       "      <td>0.346791</td>\n",
       "      <td>0.418957</td>\n",
       "      <td>0.425955</td>\n",
       "    </tr>\n",
       "    <tr>\n",
       "      <th>NEM</th>\n",
       "      <td>-0.023544</td>\n",
       "      <td>0.062052</td>\n",
       "      <td>-0.026093</td>\n",
       "      <td>-0.023544</td>\n",
       "    </tr>\n",
       "  </tbody>\n",
       "</table>\n",
       "</div>"
      ]
     },
     "execution_count": 153,
     "metadata": {},
     "output_type": "execute_result"
    }
   ],
   "execution_count": 153
  },
  {
   "cell_type": "code",
   "source": [
    "#--------------------------------------------------------------------------\n",
    "# 4.3 Plot the portfolio wealth evolution \n",
    "# \n",
    "# Note: The code below plots all portfolios onto a single plot. However,\n",
    "# you may want to split this into multiple plots for clarity, or to\n",
    "# compare a subset of the portfolios. \n",
    "#--------------------------------------------------------------------------\n",
    "# Calculate the dates of the out-of-sample period\n",
    "\n",
    "fig = plt.figure(1)\n",
    "portfValue.plot(title='Portfolio wealth evolution',\n",
    "                ylabel='Total wealth',\n",
    "                figsize=(6, 3),\n",
    "                legend=True)\n",
    "plt.savefig(\"images/wealth.svg\")\n",
    "\n",
    "#--------------------------------------------------------------------------\n",
    "# 4.4 Plot the portfolio weights period-over-period\n",
    "#--------------------------------------------------------------------------\n",
    "# OLS Portfolio weights\n",
    "\n",
    "fig2 = plt.figure(2)\n",
    "x[0][x[0] < 0] = 0\n",
    "weights = pd.DataFrame(x[0][(x[0] > 0).any(axis=1)], index=tickers[(x[0] > 0).any(axis=1)])\n",
    "weights.columns = [col + 1 for col in weights.columns]\n",
    "weights.T.plot.area(title='Portfolio weights',\n",
    "                    ylabel='Weights', xlabel='Rebalance Period',\n",
    "                    figsize=(6, 3),\n",
    "                    legend=True, stacked=True)\n",
    "plt.legend(loc='center left', bbox_to_anchor=(1.0, 0.5))\n",
    "plt.savefig(\"images/weights.svg\")\n",
    "#\n",
    "# ###########################################################################\n",
    "# # Program End"
   ],
   "metadata": {
    "collapsed": false,
    "ExecuteTime": {
     "end_time": "2024-05-05T20:18:07.180394Z",
     "start_time": "2024-05-05T20:18:06.064956Z"
    }
   },
   "id": "46c3d885c42bb74e",
   "outputs": [
    {
     "data": {
      "text/plain": [
       "<Figure size 640x480 with 0 Axes>"
      ]
     },
     "metadata": {},
     "output_type": "display_data"
    },
    {
     "data": {
      "text/plain": [
       "<Figure size 600x300 with 1 Axes>"
      ],
      "image/png": "[encoded data removed]"
     },
     "metadata": {},
     "output_type": "display_data"
    },
    {
     "data": {
      "text/plain": [
       "<Figure size 600x300 with 1 Axes>"
      ],
      "image/png": "[encoded data removed]"
     },
     "metadata": {},
     "output_type": "display_data"
    }
   ],
   "execution_count": 150
  },
  {
   "cell_type": "code",
   "execution_count": null,
   "outputs": [],
   "source": [],
   "metadata": {
    "collapsed": false
   },
   "id": "4310a5b319d71ef0"
  }
 ],
 "metadata": {
  "kernelspec": {
   "display_name": "Python 3",
   "language": "python",
   "name": "python3"
  },
  "language_info": {
   "codemirror_mode": {
    "name": "ipython",
    "version": 2
   },
   "file_extension": ".py",
   "mimetype": "text/x-python",
   "name": "python",
   "nbconvert_exporter": "python",
   "pygments_lexer": "ipython2",
   "version": "2.7.6"
  }
 },
 "nbformat": 4,
 "nbformat_minor": 5
}
